{
 "cells": [
  {
   "cell_type": "code",
   "execution_count": 2,
   "metadata": {
    "collapsed": true
   },
   "outputs": [],
   "source": [
    "import Equation as eq\n",
    "import json"
   ]
  },
  {
   "cell_type": "code",
   "execution_count": null,
   "metadata": {},
   "outputs": [],
   "source": [
    "listOfFunctions = [\n",
    "    {\n",
    "    \"name\": \"Sine\",\n",
    "    \"desc\": \"Sinusoidal Function\",\n",
    "    \"raw\": \"A*sin(x*B)\",\n",
    "    \"A\": \"1.0\",\n",
    "    \"B\": \"2.0\",\n",
    "    \"A_desc\": \"Amplitude\",\n",
    "    \"B_desc\": \"Frequency\"\n",
    "},\n",
    "        {\n",
    "    \"name\": \"Exp\",\n",
    "    \"desc\": \"Exponential Function\",\n",
    "    \"raw\": \"A*e^(x*B)\",\n",
    "    \"A\": \"1.0\",\n",
    "    \"B\": \"2.0\",\n",
    "    \"A_desc\": \"Initial Value\",\n",
    "    \"B_desc\": \"Growth Rate\"\n",
    "},\n",
    "        {\n",
    "    \"name\": \"False\",\n",
    "    \"desc\": \"False Function\",\n",
    "    \"raw\": \"cat\",\n",
    "    \"A\": \"1.0\",\n",
    "    \"B\": \"2.0\",\n",
    "    \"A_desc\": \"Amplitude\",\n",
    "    \"B_desc\": \"Frequency\"\n",
    "},\n",
    "        {\n",
    "    \"name\": \"Unparameterized Function\",\n",
    "    \"desc\": \"Missing parameters A and B\",\n",
    "    \"raw\": \"A*x + B*x^2\",\n",
    "    \"A_desc\": \"Amplitude\",\n",
    "    \"B_desc\": \"Frequency\"\n",
    "},\n",
    "        {\n",
    "    \"name\": \"Undescribed function\",\n",
    "    \"raw\": \"A*x + B*x^2\",\n",
    "    \"A\": \"1.0\",\n",
    "    \"B\": \"2.0\",\n",
    "},\n",
    "{\n",
    "    \"raw\": \"A*x + B*x^2\",\n",
    "}\n",
    "\n",
    "]\n",
    "\n",
    "with open('functions.json', 'w', encoding='utf-8') as f:\n",
    "    json.dump(listOfFunctions, f, ensure_ascii=False, indent=4)\n",
    "    \n",
    "    \n"
   ]
  },
  {
   "cell_type": "code",
   "execution_count": 11,
   "metadata": {},
   "outputs": [],
   "source": [
    "with open('empty.json', 'w', encoding='utf-8') as f:\n",
    "    json.dump([], f, ensure_ascii=False, indent=4)\n",
    "    \n",
    "with open('functions.json', encoding='utf-8') as data_file:\n",
    "    data = json.loads(data_file.read())\n"
   ]
  },
  {
   "cell_type": "code",
   "execution_count": 63,
   "metadata": {},
   "outputs": [],
   "source": [
    ""
   ]
  },
  {
   "cell_type": "code",
   "execution_count": 64,
   "metadata": {},
   "outputs": [
    {
     "name": "stdout",
     "output_type": "stream",
     "text": [
      "A*sin(x*B)\nA*e^(x*B)\ncat\n"
     ]
    }
   ],
   "source": [
    ""
   ]
  },
  {
   "cell_type": "code",
   "execution_count": 91,
   "metadata": {},
   "outputs": [],
   "source": [
    ""
   ]
  },
  {
   "cell_type": "code",
   "execution_count": 1,
   "metadata": {},
   "outputs": [
    {
     "name": "stderr",
     "output_type": "stream",
     "text": [
      "ERROR:root:Attempted to parse text that is not a function, or with improperly labelled parameters\n"
     ]
    },
    {
     "name": "stderr",
     "output_type": "stream",
     "text": [
      "WARNING:root:One or Zero-parameter function found, assigning zero-value placeholder parameters\n"
     ]
    },
    {
     "name": "stderr",
     "output_type": "stream",
     "text": [
      "WARNING:root:One or Zero-parameter function found, assigning zero-value placeholder parameters\n"
     ]
    }
   ],
   "source": [
    "from CZParser import Parser\n",
    "from CZMathematics import Dataset\n",
    "\n",
    "p = Parser(\"functions.json\")"
   ]
  },
  {
   "cell_type": "code",
   "execution_count": 3,
   "metadata": {
    "collapsed": true
   },
   "outputs": [
    {
     "data": {
      "text/plain": [
       "{'A': '1.0',\n 'A_desc': 'Initial Value',\n 'B': '2.0',\n 'B_desc': 'Growth Rate',\n 'desc': 'Exponential Function',\n 'name': 'Exp',\n 'raw': 'A*e^(x*B)'}"
      ]
     },
     "execution_count": 3,
     "metadata": {},
     "output_type": "execute_result"
    }
   ],
   "source": [
    "p.functions[1]"
   ]
  },
  {
   "cell_type": "code",
   "execution_count": 4,
   "metadata": {
    "collapsed": true
   },
   "outputs": [],
   "source": [
    "f = p.returnFunction(1)\n",
    "\n",
    "function_list = []\n",
    "for idx, fun in enumerate(p.functions):\n",
    "    function_list.append(p.returnFunction(idx))\n"
   ]
  },
  {
   "cell_type": "code",
   "execution_count": 16,
   "metadata": {},
   "outputs": [
    {
     "data": {
      "text/plain": [
       "'Sine'"
      ]
     },
     "execution_count": 16,
     "metadata": {},
     "output_type": "execute_result"
    }
   ],
   "source": [
    "f=function_list[0]\n",
    "f.get_name()\n"
   ]
  },
  {
   "cell_type": "code",
   "execution_count": 14,
   "metadata": {},
   "outputs": [
    {
     "data": {
      "text/plain": [
       "'2.0'"
      ]
     },
     "execution_count": 14,
     "metadata": {},
     "output_type": "execute_result"
    }
   ],
   "source": [
    "f.get_description(\"B\")"
   ]
  },
  {
   "cell_type": "code",
   "execution_count": 26,
   "metadata": {},
   "outputs": [
    {
     "data": {
      "text/plain": [
       "{'A': 1}"
      ]
     },
     "execution_count": 26,
     "metadata": {},
     "output_type": "execute_result"
    }
   ],
   "source": [
    "a = {\"A\" : 1}\n",
    "a"
   ]
  },
  {
   "cell_type": "code",
   "execution_count": 29,
   "metadata": {},
   "outputs": [
    {
     "data": {
      "text/plain": [
       "{'A': '0.0'}"
      ]
     },
     "execution_count": 29,
     "metadata": {},
     "output_type": "execute_result"
    }
   ],
   "source": [
    "a.update({\"A\" : \"0.0\"})\n",
    "a"
   ]
  },
  {
   "cell_type": "code",
   "execution_count": 18,
   "metadata": {},
   "outputs": [],
   "source": [
    "from matplotlib.backends.backend_qt5agg import FigureCanvasQTAgg as FigureCanvas\n",
    "from matplotlib.figure import Figure\n",
    "\n",
    "\n",
    "class PlotCanvas(FigureCanvas):\n",
    "    \"\"\"\n",
    "    Provides basic plotting functionality\n",
    "    # TODO: Implement an optional legend that can be turned on or off\n",
    "    \"\"\"\n",
    "    def __init__(self, parent=None, width=10, height=8, dpi=100):\n",
    "        fig = Figure(figsize=(width, height), dpi=dpi)\n",
    "        fig.add_gridspec(5, 5)\n",
    "        FigureCanvas.__init__(self, fig)\n",
    "        self.setParent(parent)\n",
    "        self.dataset_list = []\n",
    "        FigureCanvas.setSizePolicy(self, QSizePolicy.Expanding, QSizePolicy.Expanding)\n",
    "        FigureCanvas.updateGeometry(self)\n",
    "\n",
    "    # TODO: Implement handling multiple plots on the same window\n",
    "    def plot(self, dataset):\n",
    "        \"\"\"\n",
    "        Plots data with label for legend\n",
    "        \"\"\"\n",
    "        self.dataset_list.append(dataset)\n",
    "        axes_list =[]\n",
    "\n",
    "        for idx, dataset in enumerate(dataset):\n",
    "            axes_list.append(self.figure.add_subplot(1, 1, idx))\n",
    "\n",
    "        ax = self.figure.add_subplot(111)\n",
    "        ax.plot(dataset.x_data, dataset.y_data, 'r-', linewidth=1, label=dataset.name)\n",
    "        self.draw()"
   ]
  },
  {
   "cell_type": "code",
   "execution_count": 1,
   "metadata": {},
   "outputs": [],
   "source": [
    "from matplotlib.pyplot import cm\n",
    "import numpy as np\n",
    "n=5\n",
    "color=cm.rainbow(np.linspace(0,1,n))"
   ]
  },
  {
   "cell_type": "code",
   "execution_count": 22,
   "metadata": {},
   "outputs": [
    {
     "data": {
      "text/plain": [
       "array([0.00196078, 0.70928131, 0.92328911, 1.        ])"
      ]
     },
     "execution_count": 22,
     "metadata": {},
     "output_type": "execute_result"
    }
   ],
   "source": [
    "color[1]"
   ]
  },
  {
   "cell_type": "code",
   "execution_count": 23,
   "metadata": {},
   "outputs": [
    {
     "ename": "NameError",
     "evalue": "name 'utc_timetuple' is not defined",
     "traceback": [
      "\u001b[0;31m---------------------------------------------------------------------------\u001b[0m",
      "\u001b[0;31mNameError\u001b[0m                                 Traceback (most recent call last)",
      "\u001b[0;32m<ipython-input-23-fa17bbd9f946>\u001b[0m in \u001b[0;36m<module>\u001b[0;34m()\u001b[0m\n\u001b[1;32m      1\u001b[0m \u001b[0;32mimport\u001b[0m \u001b[0mcalendar\u001b[0m\u001b[0;34m\u001b[0m\u001b[0m\n\u001b[0;32m----> 2\u001b[0;31m \u001b[0mcalendar\u001b[0m\u001b[0;34m.\u001b[0m\u001b[0mtimegm\u001b[0m\u001b[0;34m(\u001b[0m\u001b[0mutc_timetuple\u001b[0m\u001b[0;34m)\u001b[0m\u001b[0;34m\u001b[0m\u001b[0m\n\u001b[0m",
      "\u001b[0;31mNameError\u001b[0m: name 'utc_timetuple' is not defined"
     ],
     "output_type": "error"
    }
   ],
   "source": [
    "import calendar\n",
    "calendar.timegm(utc_timetuple)"
   ]
  },
  {
   "cell_type": "code",
   "execution_count": null,
   "metadata": {},
   "outputs": [],
   "source": []
  }
 ],
 "metadata": {
  "kernelspec": {
   "display_name": "Python 2",
   "language": "python",
   "name": "python2"
  },
  "language_info": {
   "codemirror_mode": {
    "name": "ipython",
    "version": 2
   },
   "file_extension": ".py",
   "mimetype": "text/x-python",
   "name": "python",
   "nbconvert_exporter": "python",
   "pygments_lexer": "ipython2",
   "version": "2.7.6"
  }
 },
 "nbformat": 4,
 "nbformat_minor": 0
}
