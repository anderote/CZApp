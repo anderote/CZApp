{
 "cells": [
  {
   "cell_type": "code",
   "execution_count": 2,
   "metadata": {
    "collapsed": true
   },
   "outputs": [],
   "source": [
    "import Equation as eq\n",
    "import json"
   ]
  },
  {
   "cell_type": "code",
   "execution_count": null,
   "metadata": {},
   "outputs": [],
   "source": [
    "listOfFunctions = [\n",
    "    {\n",
    "    \"name\": \"Sine\",\n",
    "    \"desc\": \"Sinusoidal Function\",\n",
    "    \"raw\": \"A*sin(x*B)\",\n",
    "    \"A\": \"1.0\",\n",
    "    \"B\": \"2.0\",\n",
    "    \"A_desc\": \"Amplitude\",\n",
    "    \"B_desc\": \"Frequency\"\n",
    "},\n",
    "        {\n",
    "    \"name\": \"Exp\",\n",
    "    \"desc\": \"Exponential Function\",\n",
    "    \"raw\": \"A*e^(x*B)\",\n",
    "    \"A\": \"1.0\",\n",
    "    \"B\": \"2.0\",\n",
    "    \"A_desc\": \"Initial Value\",\n",
    "    \"B_desc\": \"Growth Rate\"\n",
    "},\n",
    "        {\n",
    "    \"name\": \"False\",\n",
    "    \"desc\": \"False Function\",\n",
    "    \"raw\": \"cat\",\n",
    "    \"A\": \"1.0\",\n",
    "    \"B\": \"2.0\",\n",
    "    \"A_desc\": \"Amplitude\",\n",
    "    \"B_desc\": \"Frequency\"\n",
    "},\n",
    "        {\n",
    "    \"name\": \"Unparameterized Function\",\n",
    "    \"desc\": \"Missing parameters A and B\",\n",
    "    \"raw\": \"A*x + B*x^2\",\n",
    "    \"A_desc\": \"Amplitude\",\n",
    "    \"B_desc\": \"Frequency\"\n",
    "},\n",
    "        {\n",
    "    \"name\": \"Undescribed function\",\n",
    "    \"raw\": \"A*x + B*x^2\",\n",
    "    \"A\": \"1.0\",\n",
    "    \"B\": \"2.0\",\n",
    "},\n",
    "{\n",
    "    \"raw\": \"A*x + B*x^2\",\n",
    "}\n",
    "\n",
    "]\n",
    "\n",
    "with open('functions.json', 'w', encoding='utf-8') as f:\n",
    "    json.dump(listOfFunctions, f, ensure_ascii=False, indent=4)\n",
    "    \n",
    "    \n"
   ]
  },
  {
   "cell_type": "code",
   "execution_count": 11,
   "metadata": {},
   "outputs": [],
   "source": [
    "with open('empty.json', 'w', encoding='utf-8') as f:\n",
    "    json.dump([], f, ensure_ascii=False, indent=4)\n",
    "    \n",
    "with open('functions.json', encoding='utf-8') as data_file:\n",
    "    data = json.loads(data_file.read())\n"
   ]
  },
  {
   "cell_type": "code",
   "execution_count": 63,
   "metadata": {},
   "outputs": [],
   "source": [
    ""
   ]
  },
  {
   "cell_type": "code",
   "execution_count": 64,
   "metadata": {},
   "outputs": [
    {
     "name": "stdout",
     "output_type": "stream",
     "text": [
      "A*sin(x*B)\nA*e^(x*B)\ncat\n"
     ]
    }
   ],
   "source": [
    ""
   ]
  },
  {
   "cell_type": "code",
   "execution_count": 91,
   "metadata": {},
   "outputs": [],
   "source": [
    ""
   ]
  },
  {
   "cell_type": "code",
   "execution_count": 1,
   "metadata": {},
   "outputs": [
    {
     "name": "stderr",
     "output_type": "stream",
     "text": [
      "ERROR:root:Attempted to parse text that is not a function, or with improperly labelled parameters\n"
     ]
    },
    {
     "name": "stderr",
     "output_type": "stream",
     "text": [
      "WARNING:root:One or Zero-parameter function found, assigning zero-value placeholder parameters\n"
     ]
    },
    {
     "name": "stderr",
     "output_type": "stream",
     "text": [
      "WARNING:root:One or Zero-parameter function found, assigning zero-value placeholder parameters\n"
     ]
    }
   ],
   "source": [
    "from Parser import Parser\n",
    "\n",
    "p = Parser(\"functions.json\")"
   ]
  },
  {
   "cell_type": "code",
   "execution_count": 4,
   "metadata": {
    "collapsed": true
   },
   "outputs": [
    {
     "data": {
      "text/plain": [
       "{'A': '1.0',\n 'A_desc': 'Initial Value',\n 'B': '2.0',\n 'B_desc': 'Growth Rate',\n 'desc': 'Exponential Function',\n 'name': 'Exp',\n 'raw': 'A*e^(x*B)'}"
      ]
     },
     "execution_count": 4,
     "metadata": {},
     "output_type": "execute_result"
    }
   ],
   "source": [
    "p.functions[1]"
   ]
  },
  {
   "cell_type": "code",
   "execution_count": 5,
   "metadata": {
    "collapsed": true
   },
   "outputs": [],
   "source": [
    "f = p.returnFunction(1)"
   ]
  },
  {
   "cell_type": "code",
   "execution_count": 11,
   "metadata": {},
   "outputs": [],
   "source": [
    "import numpy as np\n",
    "res = f.evaluate(np.asarray([1,2,3,45]))"
   ]
  },
  {
   "cell_type": "code",
   "execution_count": 12,
   "metadata": {},
   "outputs": [
    {
     "data": {
      "text/plain": [
       "array([7.38905610e+00, 5.45981500e+01, 4.03428793e+02, 1.22040329e+39])"
      ]
     },
     "execution_count": 12,
     "metadata": {},
     "output_type": "execute_result"
    }
   ],
   "source": [
    "res"
   ]
  },
  {
   "cell_type": "code",
   "execution_count": 26,
   "metadata": {},
   "outputs": [
    {
     "data": {
      "text/plain": [
       "{'A': 1}"
      ]
     },
     "execution_count": 26,
     "metadata": {},
     "output_type": "execute_result"
    }
   ],
   "source": [
    "a = {\"A\" : 1}\n",
    "a"
   ]
  },
  {
   "cell_type": "code",
   "execution_count": 29,
   "metadata": {},
   "outputs": [
    {
     "data": {
      "text/plain": [
       "{'A': '0.0'}"
      ]
     },
     "execution_count": 29,
     "metadata": {},
     "output_type": "execute_result"
    }
   ],
   "source": [
    "a.update({\"A\" : \"0.0\"})\n",
    "a"
   ]
  },
  {
   "cell_type": "code",
   "execution_count": null,
   "metadata": {},
   "outputs": [],
   "source": []
  }
 ],
 "metadata": {
  "kernelspec": {
   "display_name": "Python 2",
   "language": "python",
   "name": "python2"
  },
  "language_info": {
   "codemirror_mode": {
    "name": "ipython",
    "version": 2
   },
   "file_extension": ".py",
   "mimetype": "text/x-python",
   "name": "python",
   "nbconvert_exporter": "python",
   "pygments_lexer": "ipython2",
   "version": "2.7.6"
  }
 },
 "nbformat": 4,
 "nbformat_minor": 0
}
